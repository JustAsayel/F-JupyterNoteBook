{
 "cells": [
  {
   "cell_type": "markdown",
   "id": "ac0c1021-99b8-4c8d-a235-d250499a4229",
   "metadata": {},
   "source": [
    "# Data Science Tools and Ecosystem"
   ]
  },
  {
   "cell_type": "markdown",
   "id": "bbce4a65-9f05-4770-b7ae-580025a2a243",
   "metadata": {},
   "source": [
    "# Introduction\n",
    "\n",
    "In this notebook, Data Science Tools and Ecosystem are summarized."
   ]
  },
  {
   "cell_type": "markdown",
   "id": "54ab9653-9ea8-4d36-8b1c-20eb720abf67",
   "metadata": {},
   "source": [
    "# Popular Data Science Languages\n",
    "\n",
    "Some of the popular languages that Data Scientists use are:\n",
    "\n",
    "1. Python: Known for its simplicity and readability, Python has become the de facto language for data science due to its extensive libraries such as Pandas, NumPy, and scikit-learn.\n",
    "\n",
    "2. R: Specifically designed for statistical computing and graphics, R is widely used in academia and research settings for its powerful data analysis capabilities and visualization tools.\n",
    "\n",
    "3. SQL: Although not a programming language in the traditional sense, SQL (Structured Query Language) is essential for managing and querying databases, which is a crucial aspect of data science workflows.\n",
    "\n",
    "These languages provide a robust foundation for various aspects of data science, from data manipulation and statistical analysis to machine learning and big data processing.\n"
   ]
  },
  {
   "cell_type": "markdown",
   "id": "3d4576b5-6f54-49ac-9b2a-69f440e9f861",
   "metadata": {},
   "source": [
    "# Commonly Used Libraries in Data Science\n",
    "\n",
    "Some of the commonly used libraries by Data Scientists include:\n",
    "\n",
    "1. Pandas: Pandas is a powerful library for data manipulation and analysis in Python. It provides data structures like DataFrames and Series, which are essential for working with structured data.\n",
    "\n",
    "2. NumPy: NumPy is a fundamental library for numerical computing in Python. It provides support for large, multi-dimensional arrays and matrices, along with a collection of mathematical functions to operate on these arrays efficiently.\n",
    "\n",
    "3. scikit-learn: scikit-learn is a versatile library for machine learning in Python. It provides simple and efficient tools for data mining and data analysis, built on top of other libraries such as NumPy, SciPy, and matplotlib.\n",
    "\n",
    "4. Matplotlib: Matplotlib is a plotting library for Python. It enables creation of static, animated, and interactive visualizations in Python. Matplotlib is highly customizable and integrates well with Pandas for data visualization.\n",
    "\n",
    "These libraries play a crucial role in enabling Data Scientists to perform various tasks ranging from data cleaning and exploration to building complex machine learning models."
   ]
  },
  {
   "cell_type": "markdown",
   "id": "a56abece-0fbc-4c71-adab-7d65a11b36ec",
   "metadata": {},
   "source": [
    "# Data Science Tools\n",
    "\n",
    "| Data Science Tools |\n",
    "|--------------------|\n",
    "| Jupyter Notebooks  |\n",
    "| RStudio            |\n",
    "| VS Code with Python extension |\n"
   ]
  },
  {
   "cell_type": "markdown",
   "id": "49d0f48a-2591-4e90-b10b-42bc48ffcd3e",
   "metadata": {
    "tags": []
   },
   "source": [
    "## Below are a few examples of evaluating arithmetic expressions in Python:\n",
    "\n",
    "- Addition: `+`\n",
    "- Subtraction: `-`\n",
    "- Multiplication: `*`\n",
    "- Division: `/`\n",
    "- Exponentiation: `**`"
   ]
  },
  {
   "cell_type": "code",
   "execution_count": 24,
   "id": "19d8b922-926e-4347-98b4-c917efbd4931",
   "metadata": {
    "tags": []
   },
   "outputs": [
    {
     "data": {
      "text/plain": [
       "17"
      ]
     },
     "execution_count": 24,
     "metadata": {},
     "output_type": "execute_result"
    }
   ],
   "source": [
    "# This is a simple arithmetic expression to multiply then add integers.\n",
    "result = (3 * 4) + 5\n",
    "result\n"
   ]
  },
  {
   "cell_type": "code",
   "execution_count": 27,
   "id": "475e2f96-8818-485c-993a-2707e42a94f1",
   "metadata": {
    "tags": []
   },
   "outputs": [
    {
     "data": {
      "text/plain": [
       "3.3333333333333335"
      ]
     },
     "execution_count": 27,
     "metadata": {},
     "output_type": "execute_result"
    }
   ],
   "source": [
    "# This will convert 200 minutes to hours by dividing by 60.\n",
    "minutes = 200\n",
    "hours = minutes / 60\n",
    "hours\n"
   ]
  },
  {
   "cell_type": "markdown",
   "id": "d00dc4fe-49eb-4d08-a056-2d569a93ca79",
   "metadata": {},
   "source": [
    "# Objectives:\n",
    "\n",
    "- List popular languages for Data Science.\n",
    "- Introduce commonly used libraries in Data Science.\n",
    "- Demonstrate arithmetic operations in Python.\n",
    "- Convert minutes to hours using Python."
   ]
  },
  {
   "cell_type": "markdown",
   "id": "2cc32851-1793-42c2-bf21-636c1b782ea0",
   "metadata": {},
   "source": [
    "## Author\n",
    "\n",
    "Asayel "
   ]
  }
 ],
 "metadata": {
  "kernelspec": {
   "display_name": "Python",
   "language": "python",
   "name": "conda-env-python-py"
  },
  "language_info": {
   "codemirror_mode": {
    "name": "ipython",
    "version": 3
   },
   "file_extension": ".py",
   "mimetype": "text/x-python",
   "name": "python",
   "nbconvert_exporter": "python",
   "pygments_lexer": "ipython3",
   "version": "3.7.12"
  }
 },
 "nbformat": 4,
 "nbformat_minor": 5
}
